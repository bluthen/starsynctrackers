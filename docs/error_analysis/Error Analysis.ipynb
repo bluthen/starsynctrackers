{
 "cells": [
  {
   "cell_type": "markdown",
   "metadata": {},
   "source": [
    "# Star tracker error Analysis"
   ]
  },
  {
   "cell_type": "markdown",
   "metadata": {},
   "source": [
    "We are going to go for a goal of using a 100mm lens exposing for 10 minutes with a DSLR.\n",
    "\n",
    "Per [Howard's Astronomical Adventures field of view calculator](http://www.howardedin.com/articles/fov.html). For many camera's this gives us 9 to 13 arcseconds per pixel."
   ]
  },
  {
   "cell_type": "markdown",
   "metadata": {},
   "source": [
    "# Error from Polar Alignment"
   ]
  },
  {
   "cell_type": "markdown",
   "metadata": {},
   "source": [
    "Error caused by polar alignment can be expressed by this formula. See [Barret, F.A., Determining Polar Axis Alignment Accuracy, (2008)](http://celestialwonders.com/articles/polaralignment/PolarAlignmentAccuracy.pdf)\n",
    "\n",
    "\n",
    "$ \\theta \\approx \\frac{3.81{\\delta}_{err}}{t\\cdot\\cos\\delta} $\n",
    "\n",
    "$ \\theta $  alignment error (arc minutes) <br/>\n",
    "$ \\delta_{err} $ drift (arc seconds)<br/>\n",
    "$ t $ time of the drift (minutes)<br/>\n",
    "$ \\delta $ declination of target star<br/>\n",
    "\n",
    "Example: Worse case is $ \\delta = 0 ^\\circ $ with our target of 9 arcseconds drift per 10 minutes we get.\n",
    "\n",
    "$ \\theta \\approx \\frac{3.81\\cdot 9}{10\\cos 0^\\circ} \\approx 3.43' \\approx 0.0572^\\circ $\n",
    "\n",
    "Note: In reality we might want half the drift(4.5\"). \n",
    "\n",
    "We can plot maximum alignment error based on the declination of the object while keeping a dift of 9 arcseconds per 10 minutes.\n"
   ]
  },
  {
   "cell_type": "code",
   "execution_count": 1,
   "metadata": {
    "collapsed": false
   },
   "outputs": [
    {
     "data": {
      "image/png": "[encoded data removed]",
      "text/plain": [
       "<matplotlib.figure.Figure at 0x7f14a8520d10>"
      ]
     },
     "metadata": {},
     "output_type": "display_data"
    }
   ],
   "source": [
    "%matplotlib inline\n",
    "from pylab import *\n",
    "import math\n",
    "\n",
    "delta_err = 9.0\n",
    "t = 10.0\n",
    "delta = linspace(0.0, 85.0, 90)\n",
    "theta = (3.81*delta_err/(t*cos(delta*math.pi/180.0)))/60.0\n",
    "figure()\n",
    "plot(delta, theta, 'r')\n",
    "xlabel('DEC')\n",
    "ylabel('theta (degrees)')\n",
    "title('Delta v Theta')\n",
    "show()\n"
   ]
  },
  {
   "cell_type": "markdown",
   "metadata": {},
   "source": [
    "# Measurement Errors"
   ]
  },
  {
   "cell_type": "markdown",
   "metadata": {},
   "source": [
    "The purpose of calculating these errors is to see how exact our measurements need to be to not introduce too much error. Below is a diagram with various measurements labeled:\n",
    "\n",
    "<center><img src=\"files/tracker_dims.png\"></center>\n",
    "\n",
    "To calculate the errors we will do the following:\n",
    "\n",
    "$\\delta_e = |f(t, r_i, d_s, d_f, C_{threads}, C_{steps}  ) - f(t, r_i \\pm \\Delta r_i, d_s \\pm \\Delta d_s, d_f \\pm \\Delta d_f, C_{threads} \\pm \\Delta C_{threads}, C_{steps} \\pm \\Delta C_{steps}) | $\n",
    "\n",
    "The $ \\Delta $ values will be 0 or a value we want to see what the error would be if the value was off by that amount.\n",
    "\n",
    "$ t $ is time<br/>\n",
    "$ C_{threads} $ is threads per inch of the rod<br/>\n",
    "$ C_{steps} $ is steps per rotation of the stepper<br/>\n"
   ]
  },
  {
   "cell_type": "code",
   "execution_count": 2,
   "metadata": {
    "collapsed": false
   },
   "outputs": [
    {
     "name": "stdout",
     "output_type": "stream",
     "text": [
      "Processing zero\n",
      "Optimization terminated successfully.\n",
      "         Current function value: 0.000044\n",
      "         Iterations: 32\n",
      "         Function evaluations: 64\n",
      "Optimization terminated successfully.\n",
      "         Current function value: 0.000044\n",
      "         Iterations: 32\n",
      "         Function evaluations: 64\n",
      "Processing t +/- 0.9\n",
      "Optimization terminated successfully.\n",
      "         Current function value: 0.000001\n",
      "         Iterations: 38\n",
      "         Function evaluations: 76\n",
      "Optimization terminated successfully.\n",
      "         Current function value: 0.000001\n",
      "         Iterations: 37\n",
      "         Function evaluations: 74\n",
      "Processing r_i +/- 0.1\n",
      "Optimization terminated successfully.\n",
      "         Current function value: 0.000001\n",
      "         Iterations: 38\n",
      "         Function evaluations: 76\n",
      "Optimization terminated successfully.\n",
      "         Current function value: 0.000001\n",
      "         Iterations: 38\n",
      "         Function evaluations: 76\n",
      "Processing d_s +/- 0.1\n",
      "Optimization terminated successfully.\n",
      "         Current function value: 0.000001\n",
      "         Iterations: 37\n",
      "         Function evaluations: 74\n",
      "Optimization terminated successfully.\n",
      "         Current function value: 0.000001\n",
      "         Iterations: 38\n",
      "         Function evaluations: 76\n",
      "Processing d_f +/- 0.1\n",
      "Optimization terminated successfully.\n",
      "         Current function value: 0.000001\n",
      "         Iterations: 37\n",
      "         Function evaluations: 74\n",
      "Optimization terminated successfully.\n",
      "         Current function value: 0.000003\n",
      "         Iterations: 36\n",
      "         Function evaluations: 72\n",
      "Processing c_threads +/- 0.1\n",
      "Optimization terminated successfully.\n",
      "         Current function value: 0.000001\n",
      "         Iterations: 37\n",
      "         Function evaluations: 74\n",
      "Optimization terminated successfully.\n",
      "         Current function value: 0.000002\n",
      "         Iterations: 36\n",
      "         Function evaluations: 72\n",
      "Processing c_steps +/- 1.0\n",
      "Optimization terminated successfully.\n",
      "         Current function value: 0.000001\n",
      "         Iterations: 37\n",
      "         Function evaluations: 74\n",
      "Optimization terminated successfully.\n",
      "         Current function value: 0.000002\n",
      "         Iterations: 36\n",
      "         Function evaluations: 72\n",
      "\n",
      "\n",
      "zero error = 0.000040 arcseconds \n",
      "t +/- 0.9 error = 4.512322 arcseconds \n",
      "r_i +/- 0.1 error = 121.316243 arcseconds \n",
      "d_s +/- 0.1 error = 63.518258 arcseconds \n",
      "d_f +/- 0.1 error = 51.164380 arcseconds \n",
      "c_threads +/- 0.1 error = 44.718944 arcseconds \n",
      "c_steps +/- 1.0 error = 44.718944 arcseconds \n"
     ]
    }
   ],
   "source": [
    "import math\n",
    "import numpy\n",
    "from scipy.optimize import fmin\n",
    "\n",
    "MICROSTEP = 8.0\n",
    "def rad_to_arcsec(rad):\n",
    "    return rad*(180.0/(math.pi))*60.0*60.0\n",
    "\n",
    "def calc_rod_len(r_i, d_s, theta):\n",
    "    psi = 0.5*math.pi - theta\n",
    "    r = r_i - d_s * math.tan(math.pi/2.0 - psi)\n",
    "    d = r * math.sin(theta) / math.sin(psi)\n",
    "    return d\n",
    "\n",
    "def calc_theta(t, r_i, d_s, d_f):\n",
    "    theta_initial = math.atan(d_f/r_i)\n",
    "    t_sr = t*1.0027379\n",
    "    theta = theta_initial + 0.25 * math.pi * t_sr / 10800.0\n",
    "    return theta\n",
    "    \n",
    "def calc_steps(theta, r_i, d_s, d_f, c_threads, c_steps):\n",
    "    theta_initial = math.atan(d_f/r_i)\n",
    "    d_initial = calc_rod_len(r_i, d_s, theta_initial)\n",
    "\n",
    "    d = calc_rod_len(r_i, d_s, theta)\n",
    "    total_steps = MICROSTEP * (d-d_initial) * c_steps * c_threads\n",
    "    return total_steps\n",
    "\n",
    "#Returns theta\n",
    "def inv_calc_steps(total_steps, theta_guess, r_i, d_s, d_f, c_threads, c_steps):\n",
    "    def ourFunc(theta):\n",
    "        return abs(total_steps - calc_steps(theta, r_i, d_s, d_f, c_threads, c_steps))\n",
    "    #TODO: Minimize method\n",
    "    v=fmin(ourFunc, theta_guess, ftol=0.000001)\n",
    "    return v[0]\n",
    "    \n",
    "iv = {'t': 10.0*60.0, 'r_i': 6.9, 'd_s': 0.262, 'd_f': 1.5, 'c_threads': 20.0, 'c_steps': 200.0}\n",
    "rounds = [\n",
    "          ['zero', {'t': 0.0, 'r_i': 0.0, 'd_s': 0.0, 'd_f': 0.0, 'c_threads': 0.0, 'c_steps': 0.0}],\n",
    "          ['t +/- 0.9', {'t': 0.3, 'r_i': 0.0, 'd_s': 0.0, 'd_f': 0.0, 'c_threads': 0.0, 'c_steps': 0.0}],\n",
    "          ['r_i +/- 0.1', {'t': 0.0, 'r_i': 0.1, 'd_s': 0.0, 'd_f': 0.0, 'c_threads': 0.0, 'c_steps': 0.0}],\n",
    "          ['d_s +/- 0.1', {'t': 0.0, 'r_i': 0.0, 'd_s': 0.1, 'd_f': 0.0, 'c_threads': 0.0, 'c_steps': 0.0}],\n",
    "          ['d_f +/- 0.1', {'t': 0.0, 'r_i': 0.0, 'd_s': 0.0, 'd_f': 0.1, 'c_threads': 0.0, 'c_steps': 0.0}],\n",
    "          ['c_threads +/- 0.1', {'t': 0.0, 'r_i': 0.0, 'd_s': 0.0, 'd_f': 0.0, 'c_threads': 0.1, 'c_steps': 0.0}],\n",
    "          ['c_steps +/- 1.0', {'t': 0.0, 'r_i': 0.0, 'd_s': 0.0, 'd_f': 0.0, 'c_threads': 0.0, 'c_steps': 1.0}]\n",
    "          ]\n",
    "errors = []\n",
    "for round in rounds:\n",
    "    print \"Processing \"+round[0]\n",
    "    rv = round[1]\n",
    "    #correct_steps = calc_steps(calc_theta(iv['t'], iv['r_i'], iv['d_s'], iv['d_f']), iv['r_i'], iv['d_s'], iv['d_f'], iv['c_threads'], iv['c_steps'])\n",
    "    error_thetas = []\n",
    "    for m in [1.0, -1.0]:\n",
    "        error_steps = calc_steps(\\\n",
    "            calc_theta(iv['t']+m*rv['t'], iv['r_i']+m*rv['r_i'], iv['d_s']+m*rv['d_s'], iv['d_f']+m*rv['d_f']),\\\n",
    "            iv['r_i']+m*rv['r_i'], iv['d_s']+m*rv['d_s'], iv['d_f']+m*rv['d_f'], iv['c_threads']+m*rv['c_threads'], \\\n",
    "            iv['c_steps']+m*rv['c_steps'])\n",
    "        error_theta = inv_calc_steps(error_steps, 0.13, iv['r_i'], iv['d_s'], iv['d_f'], iv['c_threads'], iv['c_steps'])\n",
    "        error_thetas.append(error_theta)\n",
    "    correct_theta = calc_theta(iv['t'], iv['r_i'], iv['d_s'], iv['d_f'])\n",
    "    err = max(abs(numpy.array(error_thetas)-correct_theta))\n",
    "    errors.append(\"%s error = %f arcseconds \" % (round[0], rad_to_arcsec(err)))\n",
    "\n",
    "print\n",
    "print\n",
    "\n",
    "for err in errors:\n",
    "    print err\n",
    "        "
   ]
  },
  {
   "cell_type": "markdown",
   "metadata": {},
   "source": [
    "# Microcontroller Oscillator Error"
   ]
  },
  {
   "cell_type": "markdown",
   "metadata": {},
   "source": [
    "The 16Mhz crystal oscilator typically used on microcontroller board such as the Arduino have a 50 or 100 ppm error. Some cheaper arduino compatible boards use reasonators, that could be off by 0.5% or more."
   ]
  },
  {
   "cell_type": "code",
   "execution_count": 3,
   "metadata": {
    "collapsed": false
   },
   "outputs": [
    {
     "name": "stdout",
     "output_type": "stream",
     "text": [
      "Over 10 minutes:\n",
      "Crystal error: +/- 0.060000s =  0.902464\"\n",
      "Reasonator error: +/- 3.000000s = 45.123205\"\n"
     ]
    }
   ],
   "source": [
    "def calc_time_theta(t):\n",
    "    t_sr = t*1.0027379\n",
    "    theta = 0.25 * math.pi * t_sr / 10800.0\n",
    "    return theta\n",
    "\n",
    "minutes = 10.0\n",
    "time = 60*minutes\n",
    "\n",
    "\n",
    "#Crystal\n",
    "\n",
    "error_ppm = 100.0\n",
    "clock_hz = 16000000.0\n",
    "\n",
    "error_hz = (clock_hz/1000000.0)*error_ppm\n",
    "\n",
    "error_time = time - time*(clock_hz-error_hz)/clock_hz\n",
    "error_theta = calc_time_theta(time) - calc_time_theta(time-error_time)\n",
    "print \"Over %d minutes:\" % (minutes)\n",
    "print \"Crystal error: +/- %fs =  %f\\\"\" % (error_time, rad_to_arcsec(error_theta))\n",
    "\n",
    "#Reasonator\n",
    "error_ppm = 0.005 * 1e6\n",
    "error_hz = (clock_hz/1000000.0)*error_ppm\n",
    "\n",
    "error_time = time - time*(clock_hz-error_hz)/clock_hz\n",
    "error_theta = calc_time_theta(time) - calc_time_theta(time-error_time)\n",
    "\n",
    "print \"Reasonator error: +/- %fs = %f\\\"\" % (error_time, rad_to_arcsec(error_theta))"
   ]
  },
  {
   "cell_type": "markdown",
   "metadata": {},
   "source": [
    "# Calibration"
   ]
  },
  {
   "cell_type": "markdown",
   "metadata": {},
   "source": [
    "# Power Usage"
   ]
  },
  {
   "cell_type": "markdown",
   "metadata": {},
   "source": [
    "How much power does the tracker use and how much will certain batteries be able to power it. \n",
    "\n",
    "* TODO: Measure power usage\n",
    "* TODO: Measure usage using different microsteps\n",
    "* TODO: Measure power usage of just arduino and driver to see if it is worth replacing voltage regulator.\n",
    "\n",
    "Quick measurement with my stepup, at 12V it showed a initial spike of 500mA. It ran continously at 390mA."
   ]
  },
  {
   "cell_type": "markdown",
   "metadata": {},
   "source": [
    "# Test Jig and Feedback"
   ]
  },
  {
   "cell_type": "markdown",
   "metadata": {},
   "source": [
    "## Time of Flight Distance Measurement\n",
    "\n",
    "I had the idea of using a Time of Flight light based distance measurement chip to get feedback on the position of the plate. The time of flight sensor I used was accurate to 1mm. This is shown to be not nearly what we need using a 185mm plate.\n",
    "\n",
    "$$ \\arctan(1mm/185.42mm) \\approx 0.309^\\circ \\approx 18.6' \\gg 5\" $$\n",
    "\n",
    "In fact the plate we should need would be super long.\n",
    "\n",
    "$$ \\cot(9\") \\cdot 1mm \\approx 22918mm \\approx 75 ft $$"
   ]
  },
  {
   "cell_type": "markdown",
   "metadata": {},
   "source": [
    "## Accelerometer\n",
    "\n",
    "### Quick example Single-axis tilt calculation\n",
    "\n",
    "If we were to really use an accelerometer we would use a three axis one. For sake of seeing if this is feasible, lets assume we can mount it so a single axis will work, how much precision would we need?\n",
    "\n",
    "With $x$ being in a fraction of $g$ recorded by the accelerometer $ \\theta = \\arcsin(x) $\n",
    "\n",
    "$$ sin(9\") = 0.0000436 $$\n",
    "\n",
    "The most common accelerometer has a precision of 1mg or 206 arcsecond.\n",
    "\n",
    "Kionix KX123-1039 claims a typical 16384 counts/g accelerometer. Maybe: 0.000061g or 12 arcsecond?"
   ]
  },
  {
   "cell_type": "markdown",
   "metadata": {},
   "source": [
    "# References and similar projects"
   ]
  },
  {
   "cell_type": "markdown",
   "metadata": {},
   "source": [
    "* Berrangé, Daniel. \"Building a Barn Door Mount.\" F138. 1 Jan. 2014. Web. 3 May 2015. <http://fstop138.berrange.com/2014/01/building-an-barn-door-mount-part-1-arduino-stepper-motor-control/>.\n",
    "* Wierenga, Theron. \"A Barn Door Tracker for AstroPhotography.\" Nuts & Volts 1 Jan. 2015: 26. Print.\n",
    "* Barret, F.A. \"Determining Polar Axis Alignment Accuracy\" 2008 <http://celestialwonders.com/articles/polaralignment/PolarAlignmentAccuracy.pdf>\n",
    "* ZZJ. \"ZZJ's Barn Door Tracker\" 10 May 2015. <http://ridetheclown.com/BarnTracker/>\n",
    "* Joris van Rantwijk. \"Arduino clock frequency stability\" 18 May 2015. <http://jorisvr.nl/arduino_frequency.html>\n",
    "* "
   ]
  },
  {
   "cell_type": "code",
   "execution_count": 3,
   "metadata": {
    "collapsed": false
   },
   "outputs": [],
   "source": []
  }
 ],
 "metadata": {
  "kernelspec": {
   "display_name": "Python 2",
   "language": "python",
   "name": "python2"
  },
  "language_info": {
   "codemirror_mode": {
    "name": "ipython",
    "version": 2
   },
   "file_extension": ".py",
   "mimetype": "text/x-python",
   "name": "python",
   "nbconvert_exporter": "python",
   "pygments_lexer": "ipython2",
   "version": "2.7.9"
  }
 },
 "nbformat": 4,
 "nbformat_minor": 0
}
